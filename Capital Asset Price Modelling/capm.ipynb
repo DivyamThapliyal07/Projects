{
 "cells": [
  {
   "cell_type": "markdown",
   "id": "ee8eb0ec-30be-4fcc-ac36-bb269a3dce91",
   "metadata": {},
   "source": [
    "#####\n",
    "                                         Capital Asset Pricing Model (CAPM) Project Report"
   ]
  },
  {
   "cell_type": "markdown",
   "id": "44cc7011-118b-4088-a31b-652a6ce64c4f",
   "metadata": {},
   "source": [
    "Introduction\n",
    "\n",
    "The Capital Asset Pricing Model (CAPM) is a widely used financial model that estimates the expected return of an asset based on its risk level relative to the market. This report documents the implementation of a CAPM calculator in Python, explaining the methodology, code, and results."
   ]
  },
  {
   "cell_type": "markdown",
   "id": "9850789f-8dee-4591-ac32-2c24ee4f5ff0",
   "metadata": {},
   "source": [
    "Objective\n",
    "\n",
    "The primary objective of this project is to:\n",
    "\n",
    "Develop a Python program that calculates the expected return of a stock using the CAPM formula.\n",
    "\n",
    "Allow users to input relevant parameters (risk-free rate, market return, and beta).\n",
    "\n",
    "Provide a user-friendly and accurate implementation of the CAPM formula."
   ]
  },
  {
   "cell_type": "markdown",
   "id": "84e5ab1c-bb42-4140-af9e-7115f374ef94",
   "metadata": {},
   "source": [
    "Methodology\n",
    "\n",
    "3.1 CAPM Formula\n",
    "\n",
    "The CAPM formula is given by:\n",
    "\n",
    "Where:\n",
    "\n",
    "E(R_i): Expected return of the stock\n",
    "\n",
    "R_f: Risk-free rate\n",
    "\n",
    "\\beta: Beta of the stock\n",
    "\n",
    "R_m: Expected market return"
   ]
  },
  {
   "cell_type": "markdown",
   "id": "e09990a5-8ef3-4770-8d28-7808c2c44395",
   "metadata": {},
   "source": [
    "Steps of Implementation\n",
    "\n",
    "Initialize Libraries: Import required libraries such as numpy and pandas for potential extensions.\n",
    "\n",
    "Define CAPM Function: Create a Python function to calculate the expected return based on user inputs.\n",
    "\n",
    "User Input: Gather user inputs for the risk-free rate, market return, and beta.\n",
    "\n",
    "Main Program: Execute the CAPM calculation and display the result."
   ]
  },
  {
   "cell_type": "code",
   "execution_count": 14,
   "id": "9702b2f1-50cc-4bb3-bd0a-27670c3abe0f",
   "metadata": {},
   "outputs": [
    {
     "name": "stdout",
     "output_type": "stream",
     "text": [
      "Enter the following values:\n"
     ]
    },
    {
     "name": "stdin",
     "output_type": "stream",
     "text": [
      "Risk-free rate (e.g., 0.04 for 4%):  0.04\n",
      "Expected market return (e.g., 0.12 for 12%):  0.12\n",
      "Beta of the stock (e.g., 1.5):  1.5\n"
     ]
    },
    {
     "name": "stdout",
     "output_type": "stream",
     "text": [
      "\n",
      "The expected return of the stock based on CAPM is: 16.00%\n"
     ]
    }
   ],
   "source": [
    "# CAPM Model Implementation in Python\n",
    "# Documentation included for each step\n",
    "\n",
    "# Import necessary libraries\n",
    "def initialize_libraries():\n",
    "    \"\"\"\n",
    "    Step 1: Import required Python libraries.\n",
    "    - numpy: For numerical calculations.\n",
    "    - pandas: For data manipulation (if required).\n",
    "    \"\"\"\n",
    "    import numpy as np\n",
    "    import pandas as pd\n",
    "    return np, pd\n",
    "\n",
    "# CAPM Function\n",
    "def calculate_capm(risk_free_rate, market_return, beta):\n",
    "    \"\"\"\n",
    "    Step 2: Define a function to calculate the CAPM expected return.\n",
    "    \n",
    "    Parameters:\n",
    "    - risk_free_rate (float): The risk-free rate as a decimal (e.g., 0.04 for 4%).\n",
    "    - market_return (float): The expected market return as a decimal (e.g., 0.12 for 12%).\n",
    "    - beta (float): The stock's beta, indicating its volatility relative to the market.\n",
    "    \n",
    "    Returns:\n",
    "    - expected_return (float): The expected return of the stock based on CAPM.\n",
    "    \"\"\"\n",
    "    market_risk_premium = market_return - risk_free_rate\n",
    "    expected_return = risk_free_rate + beta * market_risk_premium\n",
    "    return expected_return\n",
    "\n",
    "# User Input\n",
    "def get_user_inputs():\n",
    "    \"\"\"\n",
    "    Step 3: Gather user inputs for the CAPM calculation.\n",
    "    \n",
    "    Returns:\n",
    "    - risk_free_rate (float): The risk-free rate.\n",
    "    - market_return (float): The expected market return.\n",
    "    - beta (float): The stock's beta.\n",
    "    \"\"\"\n",
    "    print(\"Enter the following values:\")\n",
    "    risk_free_rate = float(input(\"Risk-free rate (e.g., 0.04 for 4%): \"))\n",
    "    market_return = float(input(\"Expected market return (e.g., 0.12 for 12%): \"))\n",
    "    beta = float(input(\"Beta of the stock (e.g., 1.5): \"))\n",
    "    return risk_free_rate, market_return, beta\n",
    "\n",
    "# Main Program\n",
    "def main():\n",
    "    \"\"\"\n",
    "    Step 4: Main function to execute the CAPM calculation.\n",
    "    - Initializes libraries.\n",
    "    - Gathers user inputs.\n",
    "    - Calculates expected return using the CAPM formula.\n",
    "    - Prints the result.\n",
    "    \"\"\"\n",
    "    # Initialize libraries\n",
    "    np, pd = initialize_libraries()\n",
    "\n",
    "    # Gather user inputs\n",
    "    risk_free_rate, market_return, beta = get_user_inputs()\n",
    "\n",
    "    # Calculate CAPM expected return\n",
    "    expected_return = calculate_capm(risk_free_rate, market_return, beta)\n",
    "\n",
    "    # Print the result\n",
    "    print(f\"\\nThe expected return of the stock based on CAPM is: {expected_return:.2%}\")\n",
    "\n",
    "# Run the program if this script is executed directly\n",
    "if __name__ == \"__main__\":\n",
    "    main()\n",
    "\n",
    "# End of CAPM Project\n"
   ]
  },
  {
   "cell_type": "markdown",
   "id": "6d94923c-e2d1-432b-b082-149dca41d6f4",
   "metadata": {},
   "source": [
    " Conclusion\n",
    "\n",
    "This project successfully implemented the CAPM formula in Python. The program allows users to input relevant financial data and computes the expected return accurately. It is a useful tool for finance professionals and students to analyze stock performance relative to market risk.\n",
    "\n"
   ]
  },
  {
   "cell_type": "markdown",
   "id": "f72c06f0-72e4-4a47-8742-b6536d1e50aa",
   "metadata": {},
   "source": [
    "References\n",
    "\n",
    "Sharpe, W. F. (1964). Capital Asset Prices: A Theory of Market Equilibrium under Conditions of Risk. The Journal of Finance.\n",
    "\n",
    "Python Documentation: https://docs.python.org/"
   ]
  },
  {
   "cell_type": "code",
   "execution_count": null,
   "id": "274e1376-60cd-49a8-afd4-d2f98848b175",
   "metadata": {},
   "outputs": [],
   "source": []
  }
 ],
 "metadata": {
  "kernelspec": {
   "display_name": "Python 3 (ipykernel)",
   "language": "python",
   "name": "python3"
  },
  "language_info": {
   "codemirror_mode": {
    "name": "ipython",
    "version": 3
   },
   "file_extension": ".py",
   "mimetype": "text/x-python",
   "name": "python",
   "nbconvert_exporter": "python",
   "pygments_lexer": "ipython3",
   "version": "3.12.4"
  }
 },
 "nbformat": 4,
 "nbformat_minor": 5
}
